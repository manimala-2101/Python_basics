{
  "nbformat": 4,
  "nbformat_minor": 0,
  "metadata": {
    "colab": {
      "provenance": []
    },
    "kernelspec": {
      "name": "python3",
      "display_name": "Python 3"
    },
    "language_info": {
      "name": "python"
    }
  },
  "cells": [
    {
      "cell_type": "markdown",
      "source": [
        "#Python Basics\n",
        "\n"
      ],
      "metadata": {
        "id": "DAq_1KPwGv-y"
      }
    },
    {
      "cell_type": "markdown",
      "source": [
        "1. What is Python, and why is it popular?\n",
        "\n",
        "*   Python is a general-purpose interpreted, interactive, object-oriented,\n",
        "    and high-level programming language.\n",
        "\n",
        "*   It was created by Guido van Rossum during 1985- 1990.\n",
        "\n",
        "*   It is designed to be simple, readable, and versatile, making it\n",
        "    accessible for beginners and professionals alike.\n",
        "\n",
        "  ->  Why is Python Popular?\n",
        "* Python is designed to be highly readable. It uses English keywords\n",
        "  frequently where as other languages use punctuation, and it has fewer syntactical constructions than other languages.\n",
        "\n",
        "\n",
        "* Ease of Use and Readability:\n",
        "  Python's syntax is clear and straightforward, making it easier to learn and write code. This simplicity reduces the learning curve, especially for beginners.\n",
        "\n",
        "* Extensive Libraries and Frameworks:\n",
        "  Python has a rich ecosystem of libraries and frameworks that save time and effort.\n",
        "\n",
        "* Strong Community Support:\n",
        "  Python has a large and active community of developers who contribute to its ecosystem, create tutorials, and provide support through forums like Stack Overflow.\n",
        "\n",
        "* Cross-Platform Compatibility:\n",
        "  Python works seamlessly across different platforms (Windows, macOS, Linux), allowing developers to write code once and run it anywhere.\n",
        "\n",
        "* Wide Range of Applications:\n",
        "Python is used in various fields, including:Web Development,Data Science and Analytics,Machine Learning and AI,Automation,Game Development,Scientific Computing,\n",
        "\n"
      ],
      "metadata": {
        "id": "a-5eCf7fJkUT"
      }
    },
    {
      "cell_type": "markdown",
      "source": [
        "2. What is an interpreter in Python?\n",
        "  * An interpreter in Python is a program that executes Python code line\n",
        "    by line, translating it into machine-readable instructions at runtime.\n",
        "  \n",
        "  * Python is an interpreted language, meaning it does not require a\n",
        "    compilation step (as in languages like C or Java). Instead, the interpreter directly runs the Python code.\n",
        "\n",
        "  * It analyzes the structure of the Python code to ensure it's\n",
        "    syntactically correct.\n",
        "\n",
        "  * Translates the source code into an intermediate form called bytecode,\n",
        "    which is platform-independent and optimized for execution.\n",
        "\n",
        "  * Then it executes the bytecode."
      ],
      "metadata": {
        "id": "os_sYijPMvs7"
      }
    },
    {
      "cell_type": "markdown",
      "source": [],
      "metadata": {
        "id": "Flw4BwQQNHcP"
      }
    },
    {
      "cell_type": "markdown",
      "source": [
        "3.What are pre-defined keywords in Python?\n",
        "\n",
        "Python Keywords are special reserved words which convey a special meaning to the compiler/interpreter.\n",
        "\n",
        "Each keyword have a special meaning and a specific operation. These keywords can't be used as variable.\n",
        "\n",
        "Following is the List of Python Keywords: ‘False’, ‘None’, ‘True’, ‘and’, ‘as’, ‘assert’, ‘async’, ‘await’, ‘break’, ‘class’, ‘continue’, ‘def’, ‘del’, ‘elif’, ‘else’, ‘except’, ‘finally’, ‘for’, ‘from’, ‘global’, ‘if’, ‘import’, ‘in’, ‘is’, ‘lambda’, ‘nonlocal’, ‘not’, ‘or’, ‘pass’, ‘raise’, ‘return’, ‘try’, ‘while’, ‘with’, ‘yield’."
      ],
      "metadata": {
        "id": "Z62fsj7ePsy5"
      }
    },
    {
      "cell_type": "markdown",
      "source": [
        "4. Can keywords be used as variable names?\n",
        "\n",
        "   * No, keywords in Python cannot be used as variable names. Keywords are\n",
        "     reserved words that have a specific meaning and purpose in the language.\n",
        "\n",
        "   * They are used to define the syntax and structure of Python programs,\n",
        "     such as control flow, data type definitions, and function definitions.\n",
        "\n",
        "   * Using keywords as variable names would lead to ambiguity and          confusion, as the interpreter would not be able to distinguish\n",
        "   between the keyword's intended functionality and the variable."
      ],
      "metadata": {
        "id": "CSWZCjS-OjTx"
      }
    },
    {
      "cell_type": "markdown",
      "source": [],
      "metadata": {
        "id": "CrN7pIJYPkl4"
      }
    },
    {
      "cell_type": "markdown",
      "source": [
        "5.  What is mutability in Python?\n",
        "   * Mutability refers to whether an object in Python can be changed\n",
        "     (mutated) after it has been created.\n",
        "\n",
        "   * If the value of an object can be modified without changing its  \n",
        "     identity, the object is said to be mutable.\n",
        "\n",
        "   * These objects allow modification after creation. Common examples of mutable objects in Python include:Lists,Dictionaries,Sets.\n"
      ],
      "metadata": {
        "id": "b9Id5BIHSlYj"
      }
    },
    {
      "cell_type": "markdown",
      "source": [
        "6. Why are lists mutable, but tuples are immutable?\n",
        "   ->Why Are Lists Mutable:\n",
        "     * Lists are like editable notebooks. You can add, remove, or change\n",
        "       the content of a list whenever you want.\n",
        "    \n",
        "     * They are designed this way because lists are meant to hold data\n",
        "       that might change while your program is running.\n",
        "\n",
        "     * Lists are used when you need to work with data that might change.\n",
        "\n",
        "   ->Why Are Tuples Immutable:\n",
        "     * Tuples are like a locked box. Once you put items inside a tuple,you cannot change, add, or remove anything.\n",
        "      \n",
        "     * They are designed to hold data that should not change, making them\n",
        "       safer and more reliable for fixed collections of items.\n",
        "\n",
        "     * Tuples are used when the data should stay constant.\n"
      ],
      "metadata": {
        "id": "SR0Snl1eTSzz"
      }
    },
    {
      "cell_type": "markdown",
      "source": [
        "7. What is the difference between “==” and “is” operators in Python?\n",
        "   - In Python, == and is are both comparison operators, but they are used for different purposes\n",
        "  -> == (Equality Operator):\n",
        "     * It checks if the values of two objects are equal.\n",
        "     * It compars the data or content of the objects.\n",
        "  -> is (Identity Operator):\n",
        "     * It checks if two objects are the same object (i.e., if they have\n",
        "       the same memory address).\n",
        "     * It compares the identity of the objects, not their content."
      ],
      "metadata": {
        "id": "Bpe5gL81WI8Q"
      }
    },
    {
      "cell_type": "markdown",
      "source": [
        "8. What are logical operators in Python?\n",
        "   * Logical operators in Python are used to perform logical operations on\n",
        "    values or expressions.\n",
        "\n",
        "   * They are primarily used in conditional statements to combine multiple\n",
        "     conditions and return a Boolean value (True or False).\n",
        "     \n",
        "   * Python provides three logical operators:\n",
        "         1.and (Logical AND):\n",
        "           -Returns True if both conditions are true.\n",
        "           -If any condition is false, it returns False.\n",
        "         2.or (Logical OR):\n",
        "           -Returns True if at least one condition is true.\n",
        "           -Returns False only if both conditions are false.\n",
        "         3.not (Logical NOT):\n",
        "           -Negates a condition or reverses its Boolean value.\n",
        "           -Returns True for a false condition and False for a true\n",
        "            condition.\n"
      ],
      "metadata": {
        "id": "dsVVqQn-YUh5"
      }
    },
    {
      "cell_type": "markdown",
      "source": [
        "9. What is type casting in Python?\n",
        "   * Type casting in Python refers to converting a variable from one data\n",
        "     type to another.\n",
        "   * This is useful when you need to perform operations that require a\n",
        "     specific data type or when you need to format data in a particular way.\n",
        "   * Types of Type Casting:\n",
        "       1. Implicit Type Casting (Type Coercion).\n",
        "       2. Explicit Type Casting (Type Conversion)."
      ],
      "metadata": {
        "id": "pKB9kA6dZvZB"
      }
    },
    {
      "cell_type": "markdown",
      "source": [
        "10. What is the difference between implicit and explicit type casting?\n",
        "\n",
        "    - Implicit Type Casting:\n",
        "\n",
        "       * Python automatically converts one data type to another during an\n",
        "         operation.\n",
        "       * It is performed by the Python interpreter.\n",
        "       * It helps to make operations prevent errors without requiring\n",
        "         explicit instructions from the programmer.\n",
        "       * It ensures there is no data loss.\n",
        "    \n",
        "    - Explicit Type Casting:\n",
        "\n",
        "       * The programmer manually converts a variable from one type to\n",
        "         another using built-in functions.\n",
        "       *  The programmer explicitly writes the code for type conversion.\n",
        "       *  To gain control over the type conversion process, often for\n",
        "          compatibility or specific operations.\n",
        "       *  Possible data loss or errors if the conversion is invalid."
      ],
      "metadata": {
        "id": "x3xVqvfoatwA"
      }
    },
    {
      "cell_type": "markdown",
      "source": [
        "11.  What is the purpose of conditional statements in Python?\n",
        "\n",
        "     * Conditional statements in Python are used to make decisions in your\n",
        "       program.\n",
        "\n",
        "     * They allow the program to execute different blocks of code based on\n",
        "       whether a condition is True or False.\n",
        "       \n",
        "     * These statements control the flow of the program and enable it to\n",
        "       behave differently depending on the situation."
      ],
      "metadata": {
        "id": "ysVeBFoHdR8X"
      }
    },
    {
      "cell_type": "markdown",
      "source": [
        "12. How does the elif statement work?\n",
        "    * The elif (short for \"else if\") statement is used in Python to check\n",
        "      multiple conditions in a sequence.\n",
        "    * It comes after an if statement and allows you to check more than one\n",
        "      condition without needing to write multiple if statements.\n",
        "    *  If the condition in the if statement is False, Python will move to\n",
        "       the next elif condition, and so on.\n",
        "    *  Syntax of elif:\n",
        "    "
      ],
      "metadata": {
        "id": "c6HQvps5ePrx"
      }
    },
    {
      "cell_type": "code",
      "source": [
        "if condition1:\n",
        "    # Block of code executed if condition1 is True\n",
        "elif condition2:\n",
        "    # Block of code executed if condition1 is False, but condition2 is True\n",
        "elif condition3:\n",
        "    # Block of code executed if condition1 and condition2 are False, but condition3 is True\n",
        "else:\n",
        "    # Block of code executed if all conditions are False\n"
      ],
      "metadata": {
        "id": "fmM7d4GwfDW3"
      },
      "execution_count": null,
      "outputs": []
    },
    {
      "cell_type": "markdown",
      "source": [
        "13. What is the difference between for and while loops?\n",
        "    - Both for and while are looping constructs in Python that allow you to\n",
        "     repeat a block of code multiple times, but they work in different ways.\n",
        "\n",
        "     1. for Loop:\n",
        "        * The for loop is generally used when you know the number of\n",
        "          iterations ahead of time or when you are iterating over a sequence (like a list, tuple, string, etc.).\n",
        "        \n",
        "        * The for loop iterates over a sequence (like a range, list, or\n",
        "          string) and runs the code block for each item in that sequence.\n",
        "\n",
        "        * Use a for loop when you have a specific sequence of items to\n",
        "          iterate over or when you know how many times you need to repeat the loop.\n",
        "\n",
        "        * Syntax:\n",
        "\n",
        "\n"
      ],
      "metadata": {
        "id": "7morNPWXfM2H"
      }
    },
    {
      "cell_type": "code",
      "source": [
        "for variable in sequence:\n",
        "    # Code to execute for each item in the sequence\n"
      ],
      "metadata": {
        "id": "Eq7xzx9mgPXX"
      },
      "execution_count": null,
      "outputs": []
    },
    {
      "cell_type": "markdown",
      "source": [
        "             2.while Loop:\n",
        "                    * The while loop is used when you want to repeat a\n",
        "                      block of code while a certain condition is true.\n",
        "\n",
        "                    * You don’t necessarily know how many times the loop\n",
        "                      will run; it will keep running until the condition is no longer true.\n",
        "\n",
        "                    * Use a while loop when you want to keep looping until\n",
        "                      a condition changes or becomes false .\n",
        "\n",
        "                    *  The while loop will execute the code block as long\n",
        "                       as the given condition evaluates to True.\n",
        "\n",
        "                    *  Syntax:\n",
        "\n"
      ],
      "metadata": {
        "id": "ObzoVjXLgl1G"
      }
    },
    {
      "cell_type": "code",
      "source": [
        "while condition:\n",
        "    # Code to execute as long as the condition is True\n"
      ],
      "metadata": {
        "id": "fw5f13_RhQmY"
      },
      "execution_count": null,
      "outputs": []
    },
    {
      "cell_type": "markdown",
      "source": [
        "14. Describe a scenario where a while loop is more suitable than a for\n",
        "    loop.\n",
        "\n",
        "    - In the password validation scenario, a while loop is better because\n",
        "      we don't know how many attempts the user will need to enter the correct password. The loop will keep asking for the password until the user enters the right one.\n",
        "\n",
        "    - while loop: Repeats until the condition is met (correct password).\n",
        "    - for loop: Wouldn't be ideal here since we don’t know how many times the loop needs to run."
      ],
      "metadata": {
        "id": "wSzGVPsehfgf"
      }
    },
    {
      "cell_type": "code",
      "source": [
        "correct_password = \"python123\"\n",
        "user_input = \"\"\n",
        "\n",
        "while user_input != correct_password:\n",
        "    user_input = input(\"Enter your password: \")\n",
        "    if user_input != correct_password:\n",
        "        print(\"Incorrect password. Try again.\")\n",
        "    else:\n",
        "        print(\"Password correct! Access granted.\")\n"
      ],
      "metadata": {
        "colab": {
          "base_uri": "https://localhost:8080/"
        },
        "id": "U7w00vpQjAO-",
        "outputId": "216d8295-204d-49ae-cb12-356ecdbd426b"
      },
      "execution_count": 1,
      "outputs": [
        {
          "output_type": "stream",
          "name": "stdout",
          "text": [
            "Enter your password: mani\n",
            "Incorrect password. Try again.\n",
            "Enter your password: python123\n",
            "Password correct! Access granted.\n"
          ]
        }
      ]
    },
    {
      "cell_type": "markdown",
      "source": [
        "# Practical Questions"
      ],
      "metadata": {
        "id": "Hf2qget7jjBn"
      }
    },
    {
      "cell_type": "markdown",
      "source": [
        "1. Write a Python program to print \"Hello, World!"
      ],
      "metadata": {
        "id": "VZ8ccde3jqAn"
      }
    },
    {
      "cell_type": "code",
      "source": [
        "print(\"Hello, World!\")\n"
      ],
      "metadata": {
        "colab": {
          "base_uri": "https://localhost:8080/"
        },
        "id": "emAbu2vPj4yF",
        "outputId": "9095dc01-8c4d-4357-c7ce-fb00268fcaca"
      },
      "execution_count": 2,
      "outputs": [
        {
          "output_type": "stream",
          "name": "stdout",
          "text": [
            "Hello, World!\n"
          ]
        }
      ]
    },
    {
      "cell_type": "markdown",
      "source": [
        "2. Write a Python program that displays your name and age"
      ],
      "metadata": {
        "id": "23scqB3yj2b_"
      }
    },
    {
      "cell_type": "code",
      "source": [
        "name = input(\"Enter name:\")\n",
        "age = int(input(\"Enter age:\"))\n",
        "\n",
        "print(name)\n",
        "print(age)"
      ],
      "metadata": {
        "colab": {
          "base_uri": "https://localhost:8080/"
        },
        "id": "M5HRD1wEkRw-",
        "outputId": "309c65b4-0e79-48f1-ea38-39713938ff80"
      },
      "execution_count": 3,
      "outputs": [
        {
          "output_type": "stream",
          "name": "stdout",
          "text": [
            "Enter name:manimala\n",
            "Enter age:20\n",
            "manimala\n",
            "20\n"
          ]
        }
      ]
    },
    {
      "cell_type": "markdown",
      "source": [
        "3. Write code to print all the pre-defined keywords in Python using the\n",
        "   keyword library"
      ],
      "metadata": {
        "id": "TuBLb8LwlI7Q"
      }
    },
    {
      "cell_type": "code",
      "source": [
        "import keyword\n",
        "\n",
        "print(\"Python Keywords:\")\n",
        "print(keyword.kwlist)"
      ],
      "metadata": {
        "colab": {
          "base_uri": "https://localhost:8080/"
        },
        "id": "nfI6K6AFlRb9",
        "outputId": "93aef48d-8de5-43a7-c3bf-6c36c5395364"
      },
      "execution_count": 4,
      "outputs": [
        {
          "output_type": "stream",
          "name": "stdout",
          "text": [
            "Python Keywords:\n",
            "['False', 'None', 'True', 'and', 'as', 'assert', 'async', 'await', 'break', 'class', 'continue', 'def', 'del', 'elif', 'else', 'except', 'finally', 'for', 'from', 'global', 'if', 'import', 'in', 'is', 'lambda', 'nonlocal', 'not', 'or', 'pass', 'raise', 'return', 'try', 'while', 'with', 'yield']\n"
          ]
        }
      ]
    },
    {
      "cell_type": "markdown",
      "source": [
        "4. Write a program that checks if a given word is a Python keyword."
      ],
      "metadata": {
        "id": "d6RwfaL2lkdt"
      }
    },
    {
      "cell_type": "code",
      "source": [
        "import keyword\n",
        "\n",
        "\n",
        "def check_keyword(word):\n",
        "    if keyword.iskeyword(word):\n",
        "        print(f\"'{word}' is a Python keyword.\")\n",
        "    else:\n",
        "        print(f\"'{word}' is not a Python keyword.\")\n",
        "\n",
        "\n",
        "word = input(\"Enter a word to check if it's a Python keyword: \")\n",
        "\n",
        "\n",
        "check_keyword(word)"
      ],
      "metadata": {
        "colab": {
          "base_uri": "https://localhost:8080/"
        },
        "id": "ETmQ3xxFl4WW",
        "outputId": "ee18e3b1-9cd1-4f24-9f22-56df7754c426"
      },
      "execution_count": 5,
      "outputs": [
        {
          "output_type": "stream",
          "name": "stdout",
          "text": [
            "Enter a word to check if it's a Python keyword: True\n",
            "'True' is a Python keyword.\n"
          ]
        }
      ]
    },
    {
      "cell_type": "markdown",
      "source": [
        "5. Create a list and tuple in Python, and demonstrate how attempting to change an element works differently\n",
        "for each"
      ],
      "metadata": {
        "id": "ORzXmv4hmDQl"
      }
    },
    {
      "cell_type": "code",
      "source": [
        "\n",
        "my_list = [10, 20, 30, 40]\n",
        "my_tuple = (10, 20, 30, 40)\n",
        "\n",
        "\n",
        "print(\"Before modifying the list:\")\n",
        "print(f\"List: {my_list}\")\n",
        "my_list[1] = 50\n",
        "print(\"After modifying the list:\")\n",
        "print(f\"List: {my_list}\")\n",
        "\n",
        "\n",
        "print(\"\\nBefore modifying the tuple:\")\n",
        "print(f\"Tuple: {my_tuple}\")\n",
        "\n",
        "try:\n",
        "    my_tuple[1] = 50\n",
        "except TypeError as e:\n",
        "    print(f\"Error: {e}\")\n",
        "\n"
      ],
      "metadata": {
        "colab": {
          "base_uri": "https://localhost:8080/"
        },
        "id": "r6AbocqImNVF",
        "outputId": "4ac279a7-3455-4266-9e0e-37b953b50cb2"
      },
      "execution_count": 6,
      "outputs": [
        {
          "output_type": "stream",
          "name": "stdout",
          "text": [
            "Before modifying the list:\n",
            "List: [10, 20, 30, 40]\n",
            "After modifying the list:\n",
            "List: [10, 50, 30, 40]\n",
            "\n",
            "Before modifying the tuple:\n",
            "Tuple: (10, 20, 30, 40)\n",
            "Error: 'tuple' object does not support item assignment\n"
          ]
        }
      ]
    },
    {
      "cell_type": "markdown",
      "source": [
        "6. Write a function to demonstrate the behavior of mutable and immutable arguments"
      ],
      "metadata": {
        "id": "Zi_Ja9aNm1pl"
      }
    },
    {
      "cell_type": "code",
      "source": [
        "\n",
        "def modify_argument(arg):\n",
        "    print(f\"Before modification: {arg}\")\n",
        "    if isinstance(arg, list):\n",
        "        arg.append(100)\n",
        "    else:\n",
        "        arg += 10\n",
        "    print(f\"After modification: {arg}\")\n",
        "\n",
        "# Mutable argument (list)\n",
        "my_list = [1, 2, 3]\n",
        "modify_argument(my_list)\n",
        "print(f\"Final list: {my_list}\")\n",
        "\n",
        "# Immutable argument (integer)\n",
        "my_int = 5\n",
        "modify_argument(my_int)\n",
        "print(f\"Final integer: {my_int}\")\n"
      ],
      "metadata": {
        "colab": {
          "base_uri": "https://localhost:8080/"
        },
        "id": "RyOevBV1j3pf",
        "outputId": "26e43d12-df84-4ef1-c015-3c6cd329833a"
      },
      "execution_count": 7,
      "outputs": [
        {
          "output_type": "stream",
          "name": "stdout",
          "text": [
            "Before modification: [1, 2, 3]\n",
            "After modification: [1, 2, 3, 100]\n",
            "Final list: [1, 2, 3, 100]\n",
            "Before modification: 5\n",
            "After modification: 15\n",
            "Final integer: 5\n"
          ]
        }
      ]
    },
    {
      "cell_type": "markdown",
      "source": [
        "7. Write a function to demonstrate the behavior of mutable and immutable arguments"
      ],
      "metadata": {
        "id": "wa9ApwLqoGCm"
      }
    },
    {
      "cell_type": "code",
      "source": [
        "\n",
        "def modify_argument(arg):\n",
        "    print(f\"Before modification: {arg}\")\n",
        "    if isinstance(arg, list):\n",
        "        arg.append(100)\n",
        "    else:\n",
        "        arg += 10\n",
        "    print(f\"After modification: {arg}\")\n",
        "\n",
        "# Mutable argument (list)\n",
        "my_list = [1, 2, 3]\n",
        "modify_argument(my_list)\n",
        "print(f\"Final list: {my_list}\")\n",
        "\n",
        "# Immutable argument (integer)\n",
        "my_int = 5\n",
        "modify_argument(my_int)\n",
        "print(f\"Final integer: {my_int}\")\n"
      ],
      "metadata": {
        "colab": {
          "base_uri": "https://localhost:8080/"
        },
        "outputId": "26e43d12-df84-4ef1-c015-3c6cd329833a",
        "id": "C6fHB2W2ohUw"
      },
      "execution_count": null,
      "outputs": [
        {
          "output_type": "stream",
          "name": "stdout",
          "text": [
            "Before modification: [1, 2, 3]\n",
            "After modification: [1, 2, 3, 100]\n",
            "Final list: [1, 2, 3, 100]\n",
            "Before modification: 5\n",
            "After modification: 15\n",
            "Final integer: 5\n"
          ]
        }
      ]
    },
    {
      "cell_type": "markdown",
      "source": [
        "8. Write a program to demonstrate the use of logical operators"
      ],
      "metadata": {
        "id": "zyYEMNC-okbl"
      }
    },
    {
      "cell_type": "code",
      "source": [
        "\n",
        "a = 10\n",
        "b = 5\n",
        "\n",
        "print(f\"a = {a}, b = {b}\")\n",
        "\n",
        "\n",
        "print(f\"a > 5 and b < 10: {a > 5 and b < 10}\")\n",
        "\n",
        "# Using 'or' operator\n",
        "print(f\"a > 5 or b > 10: {a > 5 or b > 10}\")\n",
        "# Using 'not' operator\n",
        "print(f\"not (a < 5): {not (a < 5)}\")\n"
      ],
      "metadata": {
        "colab": {
          "base_uri": "https://localhost:8080/"
        },
        "id": "w9WywIt-o_At",
        "outputId": "bf21ac7e-ccb8-4c1a-ecfc-75e6b0d33b02"
      },
      "execution_count": 8,
      "outputs": [
        {
          "output_type": "stream",
          "name": "stdout",
          "text": [
            "a = 10, b = 5\n",
            "a > 5 and b < 10: True\n",
            "a > 5 or b > 10: True\n",
            "not (a < 5): True\n"
          ]
        }
      ]
    },
    {
      "cell_type": "markdown",
      "source": [
        "9.  Write a Python program to convert user input from string to integer, float, and boolean types."
      ],
      "metadata": {
        "id": "sJfB3vl9pLLl"
      }
    },
    {
      "cell_type": "code",
      "source": [
        "n = input(\"Enter a value: \")\n",
        "int_value = int(n)\n",
        "print(f\"Converted to integer: {int_value}\")\n",
        "float_value = float(n)\n",
        "print(f\"Converted to float: {float_value}\")\n",
        "bool_value = bool(user_input)\n",
        "print(f\"Converted to boolean: {bool_value}\")"
      ],
      "metadata": {
        "colab": {
          "base_uri": "https://localhost:8080/"
        },
        "id": "Q5S_y3h0psDV",
        "outputId": "62fc690c-d2c6-4d23-9b83-01dbdd7494b1"
      },
      "execution_count": 9,
      "outputs": [
        {
          "output_type": "stream",
          "name": "stdout",
          "text": [
            "Enter a value: 123\n",
            "Converted to integer: 123\n",
            "Converted to float: 123.0\n",
            "Converted to boolean: True\n"
          ]
        }
      ]
    },
    {
      "cell_type": "markdown",
      "source": [
        "10. Write code to demonstrate type casting with list elements"
      ],
      "metadata": {
        "id": "nTs6DEziqtec"
      }
    },
    {
      "cell_type": "code",
      "source": [
        "# Original list with string elements\n",
        "str_list = [\"1\", \"2\", \"3.5\", \"4\", \"5.6\"]\n",
        "\n",
        "# Convert string elements to integer and float\n",
        "int_list = [int(x) if '.' not in x else float(x) for x in str_list]\n",
        "\n",
        "print(\"Original list (strings):\", str_list)\n",
        "print(\"Converted list (integers and floats):\", int_list)\n"
      ],
      "metadata": {
        "colab": {
          "base_uri": "https://localhost:8080/"
        },
        "id": "W5w1ONJ8q5CL",
        "outputId": "1a21e66c-ecc9-4f7b-db66-3eb6a0ac181f"
      },
      "execution_count": 10,
      "outputs": [
        {
          "output_type": "stream",
          "name": "stdout",
          "text": [
            "Original list (strings): ['1', '2', '3.5', '4', '5.6']\n",
            "Converted list (integers and floats): [1, 2, 3.5, 4, 5.6]\n"
          ]
        }
      ]
    },
    {
      "cell_type": "markdown",
      "source": [
        "11. Write a program that checks if a number is positive, negative, or zero\n"
      ],
      "metadata": {
        "id": "xZZ_ntqbq8Wk"
      }
    },
    {
      "cell_type": "code",
      "source": [
        "\n",
        "num = float(input(\"Enter a number: \"))\n",
        "\n",
        "\n",
        "if num > 0:\n",
        "    print(\"The number is positive.\")\n",
        "elif num < 0:\n",
        "    print(\"The number is negative.\")\n",
        "else:\n",
        "    print(\"The number is zero.\")\n"
      ],
      "metadata": {
        "colab": {
          "base_uri": "https://localhost:8080/"
        },
        "id": "zAnBSHTArDfc",
        "outputId": "9cf3d652-252f-4991-e432-54f777c8fecc"
      },
      "execution_count": 11,
      "outputs": [
        {
          "output_type": "stream",
          "name": "stdout",
          "text": [
            "Enter a number: 23\n",
            "The number is positive.\n"
          ]
        }
      ]
    },
    {
      "cell_type": "markdown",
      "source": [
        "12.  Write a for loop to print numbers from 1 to 100"
      ],
      "metadata": {
        "id": "5s_yp3uRrVJV"
      }
    },
    {
      "cell_type": "code",
      "source": [
        "\n",
        "for i in range(1, 11):\n",
        "    print(i)\n"
      ],
      "metadata": {
        "colab": {
          "base_uri": "https://localhost:8080/"
        },
        "id": "id52rGJ8rdj8",
        "outputId": "843ed0cc-afe9-4d04-8f37-24552f48bb90"
      },
      "execution_count": 13,
      "outputs": [
        {
          "output_type": "stream",
          "name": "stdout",
          "text": [
            "1\n",
            "2\n",
            "3\n",
            "4\n",
            "5\n",
            "6\n",
            "7\n",
            "8\n",
            "9\n",
            "10\n"
          ]
        }
      ]
    },
    {
      "cell_type": "markdown",
      "source": [
        "13. Write a Python program to find the sum of all even numbers between 1 and 50"
      ],
      "metadata": {
        "id": "MF9uNXQzrh_U"
      }
    },
    {
      "cell_type": "code",
      "source": [
        "\n",
        "sum = 0\n",
        "\n",
        "for i in range(1, 51):\n",
        "        sum += i\n",
        "\n",
        "\n",
        "print(\"Sum of all even numbers between 1 and 50:\", sum)\n"
      ],
      "metadata": {
        "colab": {
          "base_uri": "https://localhost:8080/"
        },
        "id": "5eHuPJZBrt48",
        "outputId": "73fd1cd4-4ce8-49a0-98c9-315107385352"
      },
      "execution_count": 14,
      "outputs": [
        {
          "output_type": "stream",
          "name": "stdout",
          "text": [
            "Sum of all even numbers between 1 and 50: 1275\n"
          ]
        }
      ]
    },
    {
      "cell_type": "markdown",
      "source": [
        "14.  Write a program to reverse a string using a while loop"
      ],
      "metadata": {
        "id": "04O5omsXsEDr"
      }
    },
    {
      "cell_type": "code",
      "source": [
        "s = \"manimala\"\n",
        "\n",
        "stack = list(s)\n",
        "\n",
        "rev = \"\"\n",
        "\n",
        "while stack:\n",
        "    rev += stack.pop()\n",
        "\n",
        "print(rev)"
      ],
      "metadata": {
        "colab": {
          "base_uri": "https://localhost:8080/"
        },
        "id": "aGs1RvlnuPZd",
        "outputId": "7a7af0ea-6dce-4c9a-b7c3-00d2f1bd829f"
      },
      "execution_count": 24,
      "outputs": [
        {
          "output_type": "stream",
          "name": "stdout",
          "text": [
            "alaminam\n"
          ]
        }
      ]
    },
    {
      "cell_type": "markdown",
      "source": [
        "15. Write a Python program to calculate the factorial of a number provided by the user using a while loop"
      ],
      "metadata": {
        "id": "hG_O0ZrkuyuI"
      }
    },
    {
      "cell_type": "code",
      "source": [
        "num = int(input(\"Enter a number: \"))\n",
        "\n",
        "# Initialize factorial\n",
        "factorial = 1\n",
        "\n",
        "# Calculate factorial using a while loop\n",
        "while num > 0:\n",
        "    factorial *= num\n",
        "    num -= 1\n",
        "\n",
        "# Print the result\n",
        "print(\"Factorial is:\", factorial)"
      ],
      "metadata": {
        "id": "BKKPixNeyGTU"
      },
      "execution_count": null,
      "outputs": []
    },
    {
      "cell_type": "markdown",
      "source": [],
      "metadata": {
        "id": "subLHh3sn1tZ"
      }
    }
  ]
}